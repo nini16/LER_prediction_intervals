{
  "nbformat": 4,
  "nbformat_minor": 0,
  "metadata": {
    "colab": {
      "provenance": []
    },
    "kernelspec": {
      "name": "python3",
      "display_name": "Python 3"
    },
    "language_info": {
      "name": "python"
    }
  },
  "cells": [
    {
      "cell_type": "markdown",
      "source": [
        "### **Model test results for left edge at 10% miscoverage (90% coverqge)**"
      ],
      "metadata": {
        "id": "jE1-Cmx_Ix31"
      }
    },
    {
      "cell_type": "code",
      "metadata": {
        "id": "c_ByAZwmDlAv"
      },
      "source": [
        "import numpy as np\n",
        "import math\n",
        "import pandas as pd"
      ],
      "execution_count": 3,
      "outputs": []
    },
    {
      "cell_type": "code",
      "source": [],
      "metadata": {
        "id": "nFWMom9tI_b0"
      },
      "execution_count": null,
      "outputs": []
    },
    {
      "cell_type": "code",
      "source": [
        "df = pd.read_pickle(\"/content/Calibration_df_run5\")\n",
        "df_test = pd.read_pickle(\"/content/Test_df_run5\")"
      ],
      "metadata": {
        "id": "l8cLFjLkuisk"
      },
      "execution_count": 13,
      "outputs": []
    },
    {
      "cell_type": "markdown",
      "source": [
        "#### Conformal prediction procedure"
      ],
      "metadata": {
        "id": "GQgW--gmwvHC"
      }
    },
    {
      "cell_type": "markdown",
      "source": [
        "**left edge**"
      ],
      "metadata": {
        "id": "Rcz9E24dxX3m"
      }
    },
    {
      "cell_type": "code",
      "source": [
        "# Ordinary CP\n",
        "cp_left_conf = df['lpred_nonconformity']\n",
        "cp_left_conf = cp_left_conf.sort_values(ascending=False)\n",
        "significance_index = math.floor(0.1*(len(cp_left_conf) + 1))\n",
        "cp_left_conf.iloc[significance_index]"
      ],
      "metadata": {
        "colab": {
          "base_uri": "https://localhost:8080/"
        },
        "id": "DXEP_jXQvHsf",
        "outputId": "554f6dbb-8c9c-455c-b8a0-7580a1b8a2d0"
      },
      "execution_count": 6,
      "outputs": [
        {
          "output_type": "execute_result",
          "data": {
            "text/plain": [
              "0.06761092398009694"
            ]
          },
          "metadata": {},
          "execution_count": 6
        }
      ]
    },
    {
      "cell_type": "code",
      "source": [
        "check = 0\n",
        "interval_len = []\n",
        "ratio = []\n",
        "\n",
        "\n",
        "for i in range(len(df_test)):\n",
        "  original = df_test.iloc[i]['i_leftline_sigma']\n",
        "  pred = df_test.iloc[i]['ledge_pred_sigma']\n",
        "  left = (pred-cp_left_conf.iloc[significance_index])\n",
        "  right = (pred+cp_left_conf.iloc[significance_index])\n",
        "\n",
        "  interval_len.append(right-left)\n",
        "  ratio.append((right-left)/original)\n",
        "\n",
        "  if (original <= right) and (original >= left):\n",
        "    check += 1\n",
        "print('coverage: ' + str(check/len(df_test)))\n",
        "print('ave interval: ' + str(np.mean(interval_len)))\n",
        "print('min interval: ' + str(min(interval_len)))\n",
        "print('max interval: ' + str(max(interval_len)))\n",
        "print('min ratio: ' + str(min(ratio)))\n",
        "print('max ratio: ' + str(max(ratio)))"
      ],
      "metadata": {
        "colab": {
          "base_uri": "https://localhost:8080/"
        },
        "id": "jFI4pIZCvsQ8",
        "outputId": "b1db9633-97d4-41f3-d9ca-111616604b93"
      },
      "execution_count": 7,
      "outputs": [
        {
          "output_type": "stream",
          "name": "stdout",
          "text": [
            "coverage: 0.9022569444444445\n",
            "ave interval: 0.13522184796019399\n",
            "min interval: 0.13522184796019387\n",
            "max interval: 0.1352218479601941\n",
            "min ratio: 0.06483432934606903\n",
            "max ratio: 0.48689692089832703\n"
          ]
        }
      ]
    },
    {
      "cell_type": "markdown",
      "source": [
        "#### Normalized Conformal Prediction"
      ],
      "metadata": {
        "id": "dz8JWdw8xC7M"
      }
    },
    {
      "cell_type": "code",
      "source": [
        "df_normcp = pd.read_pickle(\"/content/Calibration_df_normcp\")\n",
        "df_normcp_test = pd.read_pickle(\"/content/Test_df_normcp\")\n",
        "\n",
        "df['norm_log_left_error'] = df_normcp['norm_log_left_error']\n",
        "df['norm_log_right_error'] = df_normcp['norm_log_right_error']\n",
        "df_test['norm_log_left_error'] = df_normcp_test['norm_log_left_error']\n",
        "df_test['norm_log_right_error'] = df_normcp_test['norm_log_right_error']"
      ],
      "metadata": {
        "id": "RguJ3K0cyfvx"
      },
      "execution_count": 19,
      "outputs": []
    },
    {
      "cell_type": "markdown",
      "source": [
        "**left edge**"
      ],
      "metadata": {
        "id": "MJ0WjYqHxgQs"
      }
    },
    {
      "cell_type": "code",
      "source": [
        "cp_left_conf = df['lpred_nonconformity']/np.exp(-df['norm_log_left_error'])\n",
        "cp_left_conf = cp_left_conf.sort_values(ascending=False)\n",
        "\n",
        "significance_index = math.floor(0.1*(len(cp_left_conf) + 1))\n",
        "\n",
        "cp_left_conf.iloc[significance_index]"
      ],
      "metadata": {
        "colab": {
          "base_uri": "https://localhost:8080/"
        },
        "id": "xf5NAxPOxRxt",
        "outputId": "c403e757-d6c6-4b5b-a0eb-e0c533e0e33d"
      },
      "execution_count": 21,
      "outputs": [
        {
          "output_type": "execute_result",
          "data": {
            "text/plain": [
              "3.3610438402400327"
            ]
          },
          "metadata": {},
          "execution_count": 21
        }
      ]
    },
    {
      "cell_type": "code",
      "source": [
        "check = 0\n",
        "interval_len = []\n",
        "ratio = []\n",
        "\n",
        "\n",
        "for i in range(len(df_test)):\n",
        "  original = df_test.iloc[i]['i_leftline_sigma']\n",
        "  pred = df_test.iloc[i]['ledge_pred_sigma']\n",
        "  delta = cp_left_conf.iloc[significance_index]*np.exp(-df_test['norm_log_left_error']).iloc[i]\n",
        "  left = (pred-delta)\n",
        "  right = (pred+delta)\n",
        "  interval_len.append(right-left)\n",
        "  ratio.append((right-left)/original)\n",
        "\n",
        "  if (original <= right) and (original >= left):\n",
        "    check += 1\n",
        "print('coverage: ' + str(check/len(df_test)))\n",
        "print('ave interval: ' + str(np.mean(interval_len)))\n",
        "print('min interval: ' + str(min(interval_len)))\n",
        "print('max interval: ' + str(max(interval_len)))\n",
        "print('min ratio: ' + str(min(ratio)))\n",
        "print('max ratio: ' + str(max(ratio)))"
      ],
      "metadata": {
        "colab": {
          "base_uri": "https://localhost:8080/"
        },
        "id": "TqQVNMLv0Mod",
        "outputId": "3967985e-a099-428a-f6db-c892e95572cb"
      },
      "execution_count": 22,
      "outputs": [
        {
          "output_type": "stream",
          "name": "stdout",
          "text": [
            "coverage: 0.9015625\n",
            "ave interval: 0.15313800025421506\n",
            "min interval: 0.006111384332013747\n",
            "max interval: 1.5877470834430225\n",
            "min ratio: 0.007506539590741063\n",
            "max ratio: 2.716138148000039\n"
          ]
        }
      ]
    },
    {
      "cell_type": "markdown",
      "source": [
        "#### Quantile Regression"
      ],
      "metadata": {
        "id": "HprokjrB7uy5"
      }
    },
    {
      "cell_type": "markdown",
      "source": [
        "**left edge**"
      ],
      "metadata": {
        "id": "8V5aaBCYB7iy"
      }
    },
    {
      "cell_type": "code",
      "source": [
        "check = 0\n",
        "interval_len = []\n",
        "ratio = []\n",
        "\n",
        "for i in range(len(df_test)):\n",
        "  original = df_test.iloc[i]['i_leftline_sigma']\n",
        "  left = df_test.iloc[i]['lower_left_LER']\n",
        "  right = df_test.iloc[i]['upper_left_LER']\n",
        "  interval_len.append(right-left)\n",
        "  ratio.append((right-left)/original)\n",
        "\n",
        "  if (original <= right) and (original >= left):\n",
        "    check += 1\n",
        "print('coverage: ' + str(check/len(df_test)))\n",
        "print('ave interval: ' + str(np.mean(interval_len)))\n",
        "print('min interval: ' + str(min(interval_len)))\n",
        "print('max interval: ' + str(max(interval_len)))\n",
        "print('min ratio: ' + str(min(ratio)))\n",
        "print('max ratio: ' + str(max(ratio)))"
      ],
      "metadata": {
        "colab": {
          "base_uri": "https://localhost:8080/"
        },
        "id": "Yuri_KXB_jHd",
        "outputId": "3fb6f4e5-1dcd-4164-834c-b2958060d60d"
      },
      "execution_count": 30,
      "outputs": [
        {
          "output_type": "stream",
          "name": "stdout",
          "text": [
            "coverage: 0.859375\n",
            "ave interval: 0.1966302084038034\n",
            "min interval: 0.0333305299282074\n",
            "max interval: 0.496057391166687\n",
            "min ratio: 0.05649771946946399\n",
            "max ratio: 0.5213143580386702\n"
          ]
        }
      ]
    },
    {
      "cell_type": "markdown",
      "source": [
        "#### Conformal Quantile Regression"
      ],
      "metadata": {
        "id": "VQxQ3zQeBPGa"
      }
    },
    {
      "cell_type": "markdown",
      "source": [
        "**left edge**"
      ],
      "metadata": {
        "id": "rivEgq7EB3k1"
      }
    },
    {
      "cell_type": "code",
      "source": [
        "left_E_conf1 = (df['lower_left_LER']-df['i_leftline_sigma'])\n",
        "left_E_conf2 = (df['i_leftline_sigma']-df['upper_left_LER'])\n",
        "left_E_conf = pd.DataFrame([left_E_conf1, left_E_conf2]).max()"
      ],
      "metadata": {
        "id": "Wt1YT1-_Bvvs"
      },
      "execution_count": 31,
      "outputs": []
    },
    {
      "cell_type": "code",
      "source": [
        "conf = left_E_conf\n",
        "# sort in ascending order\n",
        "conf = conf.sort_values(ascending=True)\n",
        "coverage=0.9\n",
        "significance_index = math.floor( (coverage*(1/len(conf) + 1))*(len(conf) + 1) )"
      ],
      "metadata": {
        "id": "PykVlLjyCJjs"
      },
      "execution_count": 32,
      "outputs": []
    },
    {
      "cell_type": "code",
      "source": [
        "check = 0\n",
        "interval_len = []\n",
        "ratio = []\n",
        "\n",
        "for i in range(len(df_test)):\n",
        "  original = df_test.iloc[i]['i_leftline_sigma']\n",
        "  lower = df_test.iloc[i]['lower_left_LER']\n",
        "  upper = df_test.iloc[i]['upper_left_LER']\n",
        "  left = (lower - conf.iloc[significance_index])\n",
        "  right = (upper + conf.iloc[significance_index])\n",
        "  interval_len.append(right-left)\n",
        "  ratio.append((right-left)/original)\n",
        "\n",
        "  if (original <= right) and (original >= left):\n",
        "    check += 1\n",
        "print('coverage: ' + str(check/len(df_test)))\n",
        "print('ave interval: ' + str(np.mean(interval_len)))\n",
        "print('min interval: ' + str(min(interval_len)))\n",
        "print('max interval: ' + str(max(interval_len)))\n",
        "print('min ratio: ' + str(min(ratio)))\n",
        "print('max ratio: ' + str(max(ratio)))"
      ],
      "metadata": {
        "colab": {
          "base_uri": "https://localhost:8080/"
        },
        "id": "QsOX1sJqCLvO",
        "outputId": "e13d357d-6629-4127-ed7c-857a26402522"
      },
      "execution_count": 33,
      "outputs": [
        {
          "output_type": "stream",
          "name": "stdout",
          "text": [
            "coverage: 0.8954861111111111\n",
            "ave interval: 0.21515355664225944\n",
            "min interval: 0.051853878166663536\n",
            "max interval: 0.5145807394051429\n",
            "min ratio: 0.07081121598219244\n",
            "max ratio: 0.5701810306991829\n"
          ]
        }
      ]
    },
    {
      "cell_type": "markdown",
      "source": [
        "CQR-r"
      ],
      "metadata": {
        "id": "fsDBDR_tDxkc"
      }
    },
    {
      "cell_type": "markdown",
      "source": [
        "**left edge**"
      ],
      "metadata": {
        "id": "xt8HTOlsF0WT"
      }
    },
    {
      "cell_type": "code",
      "source": [
        "left_E_conf1 = (df['lower_left_LER']-df['i_leftline_sigma'])/(df['upper_left_LER']-df['lower_left_LER'])\n",
        "left_E_conf2 = (df['i_leftline_sigma']-df['upper_left_LER'])/(df['upper_left_LER']-df['lower_left_LER'])\n",
        "left_E_conf = pd.DataFrame([left_E_conf1, left_E_conf2]).max()"
      ],
      "metadata": {
        "id": "iopKgY_mEu78"
      },
      "execution_count": 36,
      "outputs": []
    },
    {
      "cell_type": "code",
      "source": [
        "conf = left_E_conf\n",
        "# sort in ascending order\n",
        "conf = conf.sort_values(ascending=True)\n",
        "coverage=0.9\n",
        "significance_index = math.floor( (coverage*(1/len(conf) + 1))*(len(conf) + 1) )"
      ],
      "metadata": {
        "id": "4HJ7Z4tpGhSs"
      },
      "execution_count": 37,
      "outputs": []
    },
    {
      "cell_type": "code",
      "source": [
        "check = 0\n",
        "interval_len = []\n",
        "ratio = []\n",
        "\n",
        "for i in range(len(df_test)):\n",
        "  original = df_test.iloc[i]['i_leftline_sigma']\n",
        "  lower = df_test.iloc[i]['lower_left_LER']\n",
        "  upper = df_test.iloc[i]['upper_left_LER']\n",
        "  left = ((1 + conf.iloc[significance_index])*lower - conf.iloc[significance_index]*upper)\n",
        "  right = ((1 + conf.iloc[significance_index])*upper - conf.iloc[significance_index]*lower)\n",
        "  interval_len.append(right-left)\n",
        "  ratio.append((right-left)/original)\n",
        "\n",
        "  if (original <= right) and (original >= left):\n",
        "    check += 1\n",
        "print('coverage: ' + str(check/len(df_test)))\n",
        "print('ave interval: ' + str(np.mean(interval_len)))\n",
        "print('min interval: ' + str(min(interval_len)))\n",
        "print('max interval: ' + str(max(interval_len)))\n",
        "print('min ratio: ' + str(min(ratio)))\n",
        "print('max ratio: ' + str(max(ratio)))"
      ],
      "metadata": {
        "colab": {
          "base_uri": "https://localhost:8080/"
        },
        "id": "j35775_ZFYsL",
        "outputId": "27c6e1e2-c7e8-46cb-bbb5-2bd232e4c3ba"
      },
      "execution_count": 38,
      "outputs": [
        {
          "output_type": "stream",
          "name": "stdout",
          "text": [
            "coverage: 0.8951388888888889\n",
            "ave interval: 0.22451697217675087\n",
            "min interval: 0.0380575788495322\n",
            "max interval: 0.5664099346420082\n",
            "min ratio: 0.06451041787092052\n",
            "max ratio: 0.5952489303105722\n"
          ]
        }
      ]
    },
    {
      "cell_type": "markdown",
      "source": [
        "#### Defining parameters"
      ],
      "metadata": {
        "id": "CV-0gUIyHPxe"
      }
    },
    {
      "cell_type": "code",
      "source": [
        "df_ideal = pd.read_pickle(\"/content/Calibration_df_ideal\")\n",
        "df_ideal_test = pd.read_pickle(\"/content/Test_df_ideal\")\n",
        "\n",
        "df['ideal_lower_left'] = df_ideal['ideal_lower_left']\n",
        "df['ideal_upper_left'] = df_ideal['ideal_upper_left']\n",
        "df_test['ideal_lower_left'] = df_ideal_test['ideal_lower_left']\n",
        "df_test['ideal_upper_left'] = df_ideal_test['ideal_upper_left']"
      ],
      "metadata": {
        "id": "6-JVRE9SHYPF"
      },
      "execution_count": 41,
      "outputs": []
    },
    {
      "cell_type": "code",
      "source": [
        "check = 0\n",
        "interval_len = []\n",
        "ratio = []\n",
        "\n",
        "for i in range(len(df_test)):\n",
        "  original = df_test.iloc[i]['i_leftline_sigma']\n",
        "  left = df_test.iloc[i]['ideal_lower_left']\n",
        "  right = df_test.iloc[i]['ideal_upper_left']\n",
        "  interval_len.append(right-left)\n",
        "  ratio.append((right-left)/original)\n",
        "\n",
        "  if (original <= right) and (original >= left):\n",
        "    check += 1\n",
        "print('coverage: ' + str(check/len(df_test)))\n",
        "print('ave interval: ' + str(np.mean(interval_len)))\n",
        "print('min interval: ' + str(min(interval_len)))\n",
        "print('max interval: ' + str(max(interval_len)))\n",
        "print('min ratio: ' + str(min(ratio)))\n",
        "print('max ratio: ' + str(max(ratio)))"
      ],
      "metadata": {
        "colab": {
          "base_uri": "https://localhost:8080/"
        },
        "id": "7mgV1ROEIQnt",
        "outputId": "2044ed98-c8a3-494e-ebf9-d0a885db18df"
      },
      "execution_count": 42,
      "outputs": [
        {
          "output_type": "stream",
          "name": "stdout",
          "text": [
            "coverage: 0.8977430555555556\n",
            "ave interval: 0.1035607\n",
            "min interval: [0.03245822]\n",
            "max interval: [0.23893023]\n",
            "min ratio: [0.02762939]\n",
            "max ratio: [0.5012759]\n"
          ]
        }
      ]
    }
  ]
}