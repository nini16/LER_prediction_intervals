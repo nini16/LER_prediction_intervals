{
  "nbformat": 4,
  "nbformat_minor": 0,
  "metadata": {
    "colab": {
      "name": "Ideal_Quantile_Training_Notebook.ipynb",
      "provenance": [],
      "collapsed_sections": []
    },
    "kernelspec": {
      "name": "python3",
      "display_name": "Python 3"
    },
    "language_info": {
      "name": "python"
    }
  },
  "cells": [
    {
      "cell_type": "markdown",
      "metadata": {
        "id": "GYMPdu0V6PwS"
      },
      "source": [
        "First load the 4 files one by one (not all at once)!"
      ]
    },
    {
      "cell_type": "code",
      "metadata": {
        "colab": {
          "base_uri": "https://localhost:8080/"
        },
        "id": "YKp_YsRR3Yuk",
        "outputId": "4ac0a945-e701-4246-aa70-25c8243f8b1c"
      },
      "source": [
        "!pip install tensorflow-addons"
      ],
      "execution_count": 2,
      "outputs": [
        {
          "output_type": "stream",
          "text": [
            "Collecting tensorflow-addons\n",
            "\u001b[?25l  Downloading https://files.pythonhosted.org/packages/66/4b/e893d194e626c24b3df2253066aa418f46a432fdb68250cde14bf9bb0700/tensorflow_addons-0.13.0-cp37-cp37m-manylinux2010_x86_64.whl (679kB)\n",
            "\r\u001b[K     |▌                               | 10kB 15.5MB/s eta 0:00:01\r\u001b[K     |█                               | 20kB 23.7MB/s eta 0:00:01\r\u001b[K     |█▌                              | 30kB 29.5MB/s eta 0:00:01\r\u001b[K     |██                              | 40kB 23.4MB/s eta 0:00:01\r\u001b[K     |██▍                             | 51kB 15.1MB/s eta 0:00:01\r\u001b[K     |███                             | 61kB 12.2MB/s eta 0:00:01\r\u001b[K     |███▍                            | 71kB 13.0MB/s eta 0:00:01\r\u001b[K     |███▉                            | 81kB 14.4MB/s eta 0:00:01\r\u001b[K     |████▍                           | 92kB 15.5MB/s eta 0:00:01\r\u001b[K     |████▉                           | 102kB 11.2MB/s eta 0:00:01\r\u001b[K     |█████▎                          | 112kB 11.2MB/s eta 0:00:01\r\u001b[K     |█████▉                          | 122kB 11.2MB/s eta 0:00:01\r\u001b[K     |██████▎                         | 133kB 11.2MB/s eta 0:00:01\r\u001b[K     |██████▊                         | 143kB 11.2MB/s eta 0:00:01\r\u001b[K     |███████▎                        | 153kB 11.2MB/s eta 0:00:01\r\u001b[K     |███████▊                        | 163kB 11.2MB/s eta 0:00:01\r\u001b[K     |████████▏                       | 174kB 11.2MB/s eta 0:00:01\r\u001b[K     |████████▊                       | 184kB 11.2MB/s eta 0:00:01\r\u001b[K     |█████████▏                      | 194kB 11.2MB/s eta 0:00:01\r\u001b[K     |█████████▋                      | 204kB 11.2MB/s eta 0:00:01\r\u001b[K     |██████████▏                     | 215kB 11.2MB/s eta 0:00:01\r\u001b[K     |██████████▋                     | 225kB 11.2MB/s eta 0:00:01\r\u001b[K     |███████████                     | 235kB 11.2MB/s eta 0:00:01\r\u001b[K     |███████████▋                    | 245kB 11.2MB/s eta 0:00:01\r\u001b[K     |████████████                    | 256kB 11.2MB/s eta 0:00:01\r\u001b[K     |████████████▌                   | 266kB 11.2MB/s eta 0:00:01\r\u001b[K     |█████████████                   | 276kB 11.2MB/s eta 0:00:01\r\u001b[K     |█████████████▌                  | 286kB 11.2MB/s eta 0:00:01\r\u001b[K     |██████████████                  | 296kB 11.2MB/s eta 0:00:01\r\u001b[K     |██████████████▌                 | 307kB 11.2MB/s eta 0:00:01\r\u001b[K     |███████████████                 | 317kB 11.2MB/s eta 0:00:01\r\u001b[K     |███████████████▍                | 327kB 11.2MB/s eta 0:00:01\r\u001b[K     |████████████████                | 337kB 11.2MB/s eta 0:00:01\r\u001b[K     |████████████████▍               | 348kB 11.2MB/s eta 0:00:01\r\u001b[K     |████████████████▉               | 358kB 11.2MB/s eta 0:00:01\r\u001b[K     |█████████████████▍              | 368kB 11.2MB/s eta 0:00:01\r\u001b[K     |█████████████████▉              | 378kB 11.2MB/s eta 0:00:01\r\u001b[K     |██████████████████▎             | 389kB 11.2MB/s eta 0:00:01\r\u001b[K     |██████████████████▉             | 399kB 11.2MB/s eta 0:00:01\r\u001b[K     |███████████████████▎            | 409kB 11.2MB/s eta 0:00:01\r\u001b[K     |███████████████████▊            | 419kB 11.2MB/s eta 0:00:01\r\u001b[K     |████████████████████▎           | 430kB 11.2MB/s eta 0:00:01\r\u001b[K     |████████████████████▊           | 440kB 11.2MB/s eta 0:00:01\r\u001b[K     |█████████████████████▏          | 450kB 11.2MB/s eta 0:00:01\r\u001b[K     |█████████████████████▊          | 460kB 11.2MB/s eta 0:00:01\r\u001b[K     |██████████████████████▏         | 471kB 11.2MB/s eta 0:00:01\r\u001b[K     |██████████████████████▋         | 481kB 11.2MB/s eta 0:00:01\r\u001b[K     |███████████████████████▏        | 491kB 11.2MB/s eta 0:00:01\r\u001b[K     |███████████████████████▋        | 501kB 11.2MB/s eta 0:00:01\r\u001b[K     |████████████████████████        | 512kB 11.2MB/s eta 0:00:01\r\u001b[K     |████████████████████████▋       | 522kB 11.2MB/s eta 0:00:01\r\u001b[K     |█████████████████████████       | 532kB 11.2MB/s eta 0:00:01\r\u001b[K     |█████████████████████████▌      | 542kB 11.2MB/s eta 0:00:01\r\u001b[K     |██████████████████████████      | 552kB 11.2MB/s eta 0:00:01\r\u001b[K     |██████████████████████████▌     | 563kB 11.2MB/s eta 0:00:01\r\u001b[K     |███████████████████████████     | 573kB 11.2MB/s eta 0:00:01\r\u001b[K     |███████████████████████████▌    | 583kB 11.2MB/s eta 0:00:01\r\u001b[K     |████████████████████████████    | 593kB 11.2MB/s eta 0:00:01\r\u001b[K     |████████████████████████████▍   | 604kB 11.2MB/s eta 0:00:01\r\u001b[K     |█████████████████████████████   | 614kB 11.2MB/s eta 0:00:01\r\u001b[K     |█████████████████████████████▍  | 624kB 11.2MB/s eta 0:00:01\r\u001b[K     |█████████████████████████████▉  | 634kB 11.2MB/s eta 0:00:01\r\u001b[K     |██████████████████████████████▍ | 645kB 11.2MB/s eta 0:00:01\r\u001b[K     |██████████████████████████████▉ | 655kB 11.2MB/s eta 0:00:01\r\u001b[K     |███████████████████████████████▎| 665kB 11.2MB/s eta 0:00:01\r\u001b[K     |███████████████████████████████▉| 675kB 11.2MB/s eta 0:00:01\r\u001b[K     |████████████████████████████████| 686kB 11.2MB/s \n",
            "\u001b[?25hRequirement already satisfied: typeguard>=2.7 in /usr/local/lib/python3.7/dist-packages (from tensorflow-addons) (2.7.1)\n",
            "Installing collected packages: tensorflow-addons\n",
            "Successfully installed tensorflow-addons-0.13.0\n"
          ],
          "name": "stdout"
        }
      ]
    },
    {
      "cell_type": "code",
      "metadata": {
        "id": "uUftZnIk3SN2"
      },
      "source": [
        "import tensorflow as tf\n",
        "import tensorflow_addons as tfa\n",
        "# from tensorflow.keras.losses import Loss\n",
        "\n",
        "from tensorflow.python.client import device_lib\n",
        "# print(device_lib.list_local_devices())\n",
        "import numpy as np\n",
        "import math\n",
        "import timeit\n",
        "import matplotlib\n",
        "matplotlib.use('agg')\n",
        "import matplotlib.pyplot as plt\n",
        "import keras\n",
        "from keras.models import Sequential,load_model\n",
        "from keras.layers import Dense, Dropout, Activation, Flatten, Conv2D, MaxPooling2D, BatchNormalization, UpSampling2D, Reshape, Lambda\n",
        "from keras.constraints import max_norm\n",
        "from PIL import Image\n",
        "import keras.backend as K\n",
        "import time\n",
        "from random import shuffle"
      ],
      "execution_count": 5,
      "outputs": []
    },
    {
      "cell_type": "code",
      "metadata": {
        "id": "uxx6ySwN3UdO"
      },
      "source": [
        "path = '/content/'"
      ],
      "execution_count": 6,
      "outputs": []
    },
    {
      "cell_type": "code",
      "metadata": {
        "id": "EZSD1r7A4GZi"
      },
      "source": [
        "X_val = np.load(path + \"ideal_X_val.npy\")\n",
        "y_val = np.load(path + \"ideal_y_val.npy\")\n",
        "\n",
        "X_train = np.load(path + \"ideal_X_train.npy\") # [sigma, alpha, Xi, width, space, noise, LER_L, LER_R]\n",
        "y_train = np.load(path + \"ideal_y_train.npy\")"
      ],
      "execution_count": 8,
      "outputs": []
    },
    {
      "cell_type": "code",
      "metadata": {
        "id": "xnI4Fcgf6I0B"
      },
      "source": [
        ""
      ],
      "execution_count": null,
      "outputs": []
    },
    {
      "cell_type": "markdown",
      "metadata": {
        "id": "EBGgeFLD6MCk"
      },
      "source": [
        "Set quantile"
      ]
    },
    {
      "cell_type": "code",
      "metadata": {
        "id": "LLGD28sH6JGe"
      },
      "source": [
        "quantile = 0.05 # lower quantile for 90% confidence"
      ],
      "execution_count": null,
      "outputs": []
    },
    {
      "cell_type": "code",
      "metadata": {
        "id": "fYdqThBp6bmg"
      },
      "source": [
        "model_name = 'ideal_lower_90.h5'"
      ],
      "execution_count": null,
      "outputs": []
    },
    {
      "cell_type": "code",
      "metadata": {
        "id": "1ZGzdJ1b6Jco"
      },
      "source": [
        ""
      ],
      "execution_count": null,
      "outputs": []
    },
    {
      "cell_type": "code",
      "metadata": {
        "id": "oU_-WeFE3SQ-"
      },
      "source": [
        "model = Sequential()\n",
        "model.add(Dense(32, activation='relu', input_shape=(7,))) # kernel_regularizer=l2(0.01), \n",
        "model.add(Dense(32, activation='relu')) \n",
        "model.add(Dense(16, activation='relu'))\n",
        "model.add(Dense(8, activation='relu'))\n",
        "model.add(Dense(4, activation='relu'))\n",
        "model.add(Dense(1, activation='relu'))\n",
        "\n",
        "# try residual network\n",
        "\n",
        "model.summary()\n",
        "\n",
        "adam = keras.optimizers.Adam(lr=1e-3)\n",
        "\n",
        "model.compile(loss = tfa.losses.PinballLoss(tau=quantile), # MyPinballLoss(quantile), # lambda y, y_hat: pinball_loss(y, y_hat, quantile),\n",
        "              optimizer=adam)\n",
        "\n",
        "callbacks = [\n",
        "    keras.callbacks.ReduceLROnPlateau(monitor='val_loss', factor=0.8, patience=9, min_lr=0.0001),\n",
        "    keras.callbacks.EarlyStopping(\n",
        "        monitor='val_loss',\n",
        "        patience=18,\n",
        "        ),\n",
        "    # keras.callbacks.ModelCheckpoint(\n",
        "        # path + 'models/' + 'Weights/compressedweights.{epoch:02d}-{val_loss:.2f}.hdf5',\n",
        "        # monitor='val_loss',\n",
        "        # save_best_only=True,\n",
        "        # verbose=1),\n",
        "]\n",
        "\t\t\t  \n",
        "history = model.fit(X_train[:, :7], y_train[:, 0],\n",
        "             batch_size=16,\n",
        "             epochs=120,\n",
        "             validation_data=(X_val[:, :7], y_val[:, 0]),\n",
        "             shuffle=True,\n",
        "\t\t\t callbacks=callbacks)\n",
        "\t\t\t  \n",
        "model.save(path + model_name)"
      ],
      "execution_count": null,
      "outputs": []
    }
  ]
}