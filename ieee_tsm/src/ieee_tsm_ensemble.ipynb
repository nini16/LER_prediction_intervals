{
  "nbformat": 4,
  "nbformat_minor": 0,
  "metadata": {
    "colab": {
      "provenance": []
    },
    "kernelspec": {
      "name": "python3",
      "display_name": "Python 3"
    },
    "language_info": {
      "name": "python"
    }
  },
  "cells": [
    {
      "cell_type": "code",
      "execution_count": 10,
      "metadata": {
        "id": "-1-x382pReKj"
      },
      "outputs": [],
      "source": [
        "import pandas as pd\n",
        "import math\n",
        "import numpy as np"
      ]
    },
    {
      "cell_type": "markdown",
      "source": [
        "\n",
        "```\n",
        "Keywords:  \n",
        "CP - Ordinary Conformal Prediction  \n",
        "normCP/NCP - Normalized Conformal Prediction  \n",
        "QR - Quantile Regression  \n",
        "CQR - Conformalized Quantile Regressione\n",
        "```"
      ],
      "metadata": {
        "id": "eVOEN1iySS7d"
      }
    },
    {
      "cell_type": "markdown",
      "source": [
        "Load test prediction dataframe"
      ],
      "metadata": {
        "id": "QhcoJTNxScuN"
      }
    },
    {
      "cell_type": "code",
      "source": [
        "# Ordinary CP\n",
        "df = pd.read_pickle(\"/content/Calibration_df_run5\")\n",
        "df_test = pd.read_pickle(\"/content/Test_df_run5\")"
      ],
      "metadata": {
        "id": "uIbfgcJzSZ21"
      },
      "execution_count": 4,
      "outputs": []
    },
    {
      "cell_type": "code",
      "source": [
        "#NCPBLSTM\n",
        "df_norm2 = pd.read_pickle(\"/content/Calibration_df_NORMCP_approach2\") # /content/Calibration_df_normcp\n",
        "df_test_norm2 = pd.read_pickle(\"/content/Test_df_NORMCP_approach2\") # /content/Test_df_normcp\n",
        "\n",
        "df['norm_log_left_error2'] = df_norm2['norm_log_left_error']\n",
        "df['norm_log_right_error2'] = df_norm2['norm_log_right_error']\n",
        "df_test['norm_log_left_error2'] = df_test_norm2['norm_log_left_error']\n",
        "df_test['norm_log_right_error2'] = df_test_norm2['norm_log_right_error']"
      ],
      "metadata": {
        "id": "A1kJEf6JSfiV"
      },
      "execution_count": 5,
      "outputs": []
    },
    {
      "cell_type": "markdown",
      "source": [
        "Ensemble technique: Ordinary CP + NormCP"
      ],
      "metadata": {
        "id": "SE3B0hiZVNOW"
      }
    },
    {
      "cell_type": "markdown",
      "source": [
        "Left edge"
      ],
      "metadata": {
        "id": "d70V7TYKVfX-"
      }
    },
    {
      "cell_type": "code",
      "source": [
        "# 90% miscoverage rate\n",
        "miscoverage = 0.1"
      ],
      "metadata": {
        "id": "_9pnxiRhV4hW"
      },
      "execution_count": 13,
      "outputs": []
    },
    {
      "cell_type": "code",
      "source": [
        "# Ordinary CP\n",
        "cp_left_conf = df['lpred_nonconformity']\n",
        "cp_left_conf = cp_left_conf.sort_values(ascending=False)\n",
        "significance_index = math.floor(miscoverage*(len(cp_left_conf) + 1))\n",
        "cp_left_conf.iloc[significance_index]"
      ],
      "metadata": {
        "colab": {
          "base_uri": "https://localhost:8080/"
        },
        "id": "3mVgej6fVImc",
        "outputId": "a83027ca-f69b-474c-a91e-4d313dbb1dd4"
      },
      "execution_count": 14,
      "outputs": [
        {
          "output_type": "execute_result",
          "data": {
            "text/plain": [
              "0.06761092398009694"
            ]
          },
          "metadata": {},
          "execution_count": 14
        }
      ]
    },
    {
      "cell_type": "code",
      "source": [
        "# normCP\n",
        "cp_left_conf2 = df['lpred_nonconformity']/np.exp(-df['norm_log_left_error2'])\n",
        "cp_left_conf2 = cp_left_conf2.sort_values(ascending=False)\n",
        "\n",
        "significance_index2 = math.floor(miscoverage*(len(cp_left_conf2) + 1))\n",
        "cp_left_conf2.iloc[significance_index2]"
      ],
      "metadata": {
        "colab": {
          "base_uri": "https://localhost:8080/"
        },
        "id": "MIYZ7ULcVWS-",
        "outputId": "f0fbee0b-090e-47a9-fc27-462def97f22e"
      },
      "execution_count": 15,
      "outputs": [
        {
          "output_type": "execute_result",
          "data": {
            "text/plain": [
              "2.4338917899128134"
            ]
          },
          "metadata": {},
          "execution_count": 15
        }
      ]
    },
    {
      "cell_type": "code",
      "source": [
        "check = 0\n",
        "interval_len = []\n",
        "ratio = []\n",
        "\n",
        "\n",
        "for i in range(len(df_test)):\n",
        "  original = df_test.iloc[i]['i_leftline_sigma']\n",
        "\n",
        "  pred = df_test.iloc[i]['ledge_pred_sigma']\n",
        "\n",
        "  left1 = (pred-cp_left_conf.iloc[significance_index])\n",
        "  right1 = (pred+cp_left_conf.iloc[significance_index])\n",
        "  interval1 = (right1-left1)\n",
        "\n",
        "  delta = cp_left_conf2.iloc[significance_index2]*np.exp(-df_test['norm_log_left_error2']).iloc[i]\n",
        "  left2 = (pred-delta)\n",
        "  right2 = (pred+delta)\n",
        "  interval2 = (right2-left2)\n",
        "\n",
        "  if interval1 == min(interval1, interval2):\n",
        "    right = right1\n",
        "    left = left1\n",
        "  elif interval2 == min(interval1, interval2):\n",
        "    right = right2\n",
        "    left = left2\n",
        "\n",
        "  interval_len.append(right-left)\n",
        "  ratio.append((right-left)/original)\n",
        "\n",
        "  if (original <= right) and (original >= left):\n",
        "    check += 1\n",
        "print('coverage: ' + str(check/len(df_test)))\n",
        "print('ave interval: ' + str(np.mean(interval_len)))\n",
        "print('min interval: ' + str(min(interval_len)))\n",
        "print('max interval: ' + str(max(interval_len)))\n",
        "print('min ratio: ' + str(min(ratio)))\n",
        "print('max ratio: ' + str(max(ratio)))"
      ],
      "metadata": {
        "colab": {
          "base_uri": "https://localhost:8080/"
        },
        "id": "gc-ZdcfhVlDS",
        "outputId": "78702cbc-1629-4980-f095-be32102efc90"
      },
      "execution_count": 16,
      "outputs": [
        {
          "output_type": "stream",
          "name": "stdout",
          "text": [
            "coverage: 0.8847222222222222\n",
            "ave interval: 0.11544422208059425\n",
            "min interval: 0.0773372619244388\n",
            "max interval: 0.1352218479601941\n",
            "min ratio: 0.047641292748791524\n",
            "max ratio: 0.48689692089832703\n"
          ]
        }
      ]
    },
    {
      "cell_type": "markdown",
      "source": [
        "Right edge"
      ],
      "metadata": {
        "id": "RfQgnoYhWF-s"
      }
    },
    {
      "cell_type": "code",
      "source": [
        "# Ordinary CP\n",
        "cp_right_conf = df['rpred_nonconformity']\n",
        "cp_right_conf = cp_right_conf.sort_values(ascending=False)\n",
        "significance_index = math.floor(miscoverage*(len(cp_right_conf) + 1))\n",
        "cp_right_conf.iloc[significance_index]"
      ],
      "metadata": {
        "colab": {
          "base_uri": "https://localhost:8080/"
        },
        "id": "DHpBJ3qQWIjp",
        "outputId": "a1d02ecb-83c2-443f-e1f8-786a569763dc"
      },
      "execution_count": 17,
      "outputs": [
        {
          "output_type": "execute_result",
          "data": {
            "text/plain": [
              "0.09307463300756136"
            ]
          },
          "metadata": {},
          "execution_count": 17
        }
      ]
    },
    {
      "cell_type": "code",
      "source": [
        "# normCP\n",
        "cp_right_conf2 = df['rpred_nonconformity']/np.exp(-df['norm_log_right_error2'])\n",
        "cp_right_conf2 = cp_right_conf2.sort_values(ascending=False)\n",
        "\n",
        "significance_index2 = math.floor(miscoverage*(len(cp_right_conf2) + 1))\n",
        "cp_right_conf2.iloc[significance_index2]"
      ],
      "metadata": {
        "colab": {
          "base_uri": "https://localhost:8080/"
        },
        "id": "qWmnXBA0WOxj",
        "outputId": "ea50f348-0944-44c8-ed6a-41859d656929"
      },
      "execution_count": 18,
      "outputs": [
        {
          "output_type": "execute_result",
          "data": {
            "text/plain": [
              "2.725528103996811"
            ]
          },
          "metadata": {},
          "execution_count": 18
        }
      ]
    },
    {
      "cell_type": "code",
      "source": [
        "check = 0\n",
        "interval_len = []\n",
        "ratio = []\n",
        "\n",
        "\n",
        "for i in range(len(df_test)):\n",
        "  original = df_test.iloc[i]['i_rightline_sigma']\n",
        "\n",
        "  pred = df_test.iloc[i]['redge_pred_sigma']\n",
        "\n",
        "  left1 = (pred-cp_right_conf.iloc[significance_index])\n",
        "  right1 = (pred+cp_right_conf.iloc[significance_index])\n",
        "  interval1 = (right1-left1)\n",
        "\n",
        "  delta = cp_right_conf2.iloc[significance_index2]*np.exp(-df_test['norm_log_right_error2']).iloc[i]\n",
        "  left2 = (pred-delta)\n",
        "  right2 = (pred+delta)\n",
        "  interval2 = (right2-left2)\n",
        "\n",
        "  if interval1 == min(interval1, interval2):\n",
        "    right = right1\n",
        "    left = left1\n",
        "  elif interval2 == min(interval1, interval2):\n",
        "    right = right2\n",
        "    left = left2\n",
        "\n",
        "  interval_len.append(right-left)\n",
        "  ratio.append((right-left)/original)\n",
        "\n",
        "  if (original <= right) and (original >= left):\n",
        "    check += 1\n",
        "print('coverage: ' + str(check/len(df_test)))\n",
        "print('ave interval: ' + str(np.mean(interval_len)))\n",
        "print('min interval: ' + str(min(interval_len)))\n",
        "print('max interval: ' + str(max(interval_len)))\n",
        "print('min ratio: ' + str(min(ratio)))\n",
        "print('max ratio: ' + str(max(ratio)))"
      ],
      "metadata": {
        "colab": {
          "base_uri": "https://localhost:8080/"
        },
        "id": "dBJy3p3wWU3j",
        "outputId": "1dcd34e0-df1c-4c0c-aaf6-47c368be1ece"
      },
      "execution_count": 19,
      "outputs": [
        {
          "output_type": "stream",
          "name": "stdout",
          "text": [
            "coverage: 0.8682291666666667\n",
            "ave interval: 0.1690340800413409\n",
            "min interval: 0.13077163957686055\n",
            "max interval: 0.18614926601512316\n",
            "min ratio: 0.05575791282500983\n",
            "max ratio: 0.6839189273084976\n"
          ]
        }
      ]
    }
  ]
}